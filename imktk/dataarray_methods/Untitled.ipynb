{
 "cells": [
  {
   "cell_type": "code",
   "execution_count": null,
   "id": "8333fe82",
   "metadata": {},
   "outputs": [
    {
     "name": "stdout",
     "output_type": "stream",
     "text": [
      "ncwa: /Users/tobias/Downloads/Mipas/altout.nc exists---`e'xit, `o'verwrite (i.e., clobber existing file), or `a'ppend (i.e., replace duplicate variables in, and add metadata and new variables to, existing file) (e/o/a)? "
     ]
    }
   ],
   "source": [
    "import numpy as np\n",
    "import xarray as xr\n",
    "\n",
    "# Define input file paths\n",
    "nc_file = \"/Users/tobias/Downloads/Mipas/MIPAS-E_IMK.200411.V8R_CH4_261.nc\"\n",
    "altout_file = \"/Users/tobias/Downloads/Mipas/altout.nc\"\n",
    "\n",
    "# Run ncwa command\n",
    "!ncwa -C -v altitude -a time {nc_file} {altout_file}\n",
    "\n",
    "# Run ncrename command\n",
    "!ncrename -h -v altitude,height {nc_file} renametest.nc\n",
    "\n",
    "# Open the netCDF files as xarray datasets\n",
    "targett = xr.open_dataset(\"renametest.nc\")\n",
    "altt = xr.open_dataset(\"altout.nc\")\n",
    "\n",
    "# Merge the two xarray datasets\n",
    "ds = targett.merge(altt)\n",
    "\n",
    "# Resample time to monthly intervals\n",
    "monthly_time = ds.time.resample(time=\"1M\").mean().values\n",
    "\n",
    "# Define the bin edges for latitude and longitude\n",
    "lat_bins = np.linspace(-90, 90, 19)\n",
    "lon_bins = np.linspace(-180, 180, 37)\n",
    "\n",
    "# Bin the latitude and longitude values\n",
    "lat_indices = np.digitize(ds.latitude.values, lat_bins)\n",
    "lon_indices = np.digitize(ds.longitude.values, lon_bins)\n",
    "\n",
    "# Initialize an empty array to store the binned CH4 values\n",
    "n_altitudes = ds.height.shape[0]\n",
    "n_lats = len(lat_bins) - 1\n",
    "n_lons = len(lon_bins) - 1\n",
    "n_time = 1\n",
    "ch4_binned = np.empty((n_altitudes, n_lats, n_lons, n_time))\n",
    "ch4_binned[:] = np.nan\n",
    "\n",
    "# Loop over altitudes and fill in the binned CH4 values\n",
    "for alt_idx in range(n_altitudes):\n",
    "    ch4_alt = ds.target.values[alt_idx]\n",
    "    for lat_idx in range(n_lats):\n",
    "        for lon_idx in range(n_lons):\n",
    "            mask = (lat_indices == lat_idx+1) & (lon_indices == lon_idx+1)\n",
    "            if np.any(mask):\n",
    "                ch4_binned[alt_idx, lat_idx, lon_idx, 0] = np.nanmean(ch4_alt[mask])\n",
    "            else:\n",
    "                ch4_binned[alt_idx, lat_idx, lon_idx, 0] = np.nan\n",
    "\n",
    "# Create a new xarray dataset with the binned CH4 values\n",
    "ds_binned = xr.Dataset(\n",
    "    {\"ch4\": ([\"altitude\", \"latitude\", \"longitude\", \"time\"], ch4_binned)},\n",
    "    coords={\n",
    "        \"altitude\": ds.height.values,\n",
    "        \"latitude\": lat_bins[:-1] + np.diff(lat_bins)/2,\n",
    "        \"longitude\": lon_bins[:-1] + np.diff(lon_bins)/2,\n",
    "        \"time\": monthly_time\n",
    "    },\n",
    "    attrs=ds.attrs,\n",
    ")\n"
   ]
  },
  {
   "cell_type": "code",
   "execution_count": null,
   "id": "ec19e313",
   "metadata": {},
   "outputs": [],
   "source": []
  }
 ],
 "metadata": {
  "kernelspec": {
   "display_name": "Python 3 (ipykernel)",
   "language": "python",
   "name": "python3"
  }
 },
 "nbformat": 4,
 "nbformat_minor": 5
}
