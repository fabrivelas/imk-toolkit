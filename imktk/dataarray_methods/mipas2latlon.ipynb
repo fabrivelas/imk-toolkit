{
 "cells": [
  {
   "cell_type": "code",
   "execution_count": null,
   "id": "e424b8c4",
   "metadata": {},
   "outputs": [],
   "source": [
    "import numpy as np\n",
    "import xarray as xr\n",
    "\n",
    "# Load the dataset\n",
    "ds = xr.open_dataset(\"MIPAS-E_IMK.200502.V8R_CH4_261.nc\")\n",
    "\n",
    "# extract the monthly timestamp from the original dataset\n",
    "monthly_time = ds.time.resample(time=\"1M\").mean().values\n",
    "\n",
    "# Define the bin edges for latitude and longitude\n",
    "lat_bins = np.linspace(-90, 90, 19)\n",
    "lon_bins = np.linspace(-180, 180, 37)\n",
    "\n",
    "# Bin the latitude and longitude values\n",
    "lat_indices = np.digitize(ds.latitude.values, lat_bins)\n",
    "lon_indices = np.digitize(ds.longitude.values, lon_bins)\n",
    "\n",
    "# Initialize an empty array to store the binned CH4 values\n",
    "n_altitudes = ds.target.shape[0]\n",
    "n_lats = len(lat_bins) - 1\n",
    "n_lons = len(lon_bins) - 1\n",
    "n_time = 1\n",
    "ch4_binned = np.empty((n_altitudes, n_lats, n_lons, n_time))\n",
    "ch4_binned[:] = np.nan\n",
    "\n",
    "# Loop over altitudes and fill in the binned CH4 values\n",
    "for alt_idx in range(n_altitudes):\n",
    "    ch4_alt = ds.target.values[alt_idx]\n",
    "    for lat_idx in range(n_lats):\n",
    "        for lon_idx in range(n_lons):\n",
    "            mask = (lat_indices == lat_idx+1) & (lon_indices == lon_idx+1)\n",
    "            ch4_binned[alt_idx, lat_idx, lon_idx, 0] = np.nanmean(ch4_alt[mask])\n",
    "\n",
    "# Create a new xarray dataset with the binned CH4 values\n",
    "ds_binned = xr.Dataset(\n",
    "    {\"ch4\": ([\"altitude\", \"latitude\", \"longitude\", \"time\"], ch4_binned)},\n",
    "    coords={\n",
    "        \"altitude\": ds.altitude.values,\n",
    "        \"latitude\": lat_bins[:-1] + np.diff(lat_bins)/2,\n",
    "        \"longitude\": lon_bins[:-1] + np.diff(lon_bins)/2,\n",
    "        \"time\": monthly_time\n",
    "    },\n",
    "    attrs=ds.attrs,\n",
    ")\n",
    "\n",
    "# Write the binned dataset to a netCDF file with CF metadata conventions\n",
    "ds_binned.to_netcdf(\"MIPAS-E_IMK.200502.V8R_CH4_261_binned.nc\", format=\"NETCDF4_CLASSIC\")\n"
   ]
  },
  {
   "cell_type": "code",
   "execution_count": null,
   "id": "e88888dd",
   "metadata": {},
   "outputs": [],
   "source": [
    "import matplotlib.pyplot as plt\n",
    "ds_binned.ch4[22].plot()"
   ]
  },
  {
   "cell_type": "code",
   "execution_count": null,
   "id": "a9013993",
   "metadata": {},
   "outputs": [],
   "source": [
    "ds_binned.ch4[22].T.mean('longitude').plot()"
   ]
  },
  {
   "cell_type": "code",
   "execution_count": null,
   "id": "38be68ba",
   "metadata": {},
   "outputs": [],
   "source": [
    "ds = xr.open_dataset(\"/Users/tobias/Downloads/b7f8cc38-c40f-11ed-b8a6-0050569abf1e/MIPAS-E_IMK.200412.V8R_CH4_261.nc\")"
   ]
  },
  {
   "cell_type": "code",
   "execution_count": null,
   "id": "374eef80",
   "metadata": {},
   "outputs": [],
   "source": [
    "ds = xr.open_dataset(\"/Users/tobias/Downloads/b7f8cc38-c40f-11ed-b8a6-0050569abf1e/MIPAS-E_IMK.200412.V8R_CH4_261.nc\")\n",
    "print(ds.variables)"
   ]
  },
  {
   "cell_type": "code",
   "execution_count": null,
   "id": "2c5db6ae",
   "metadata": {},
   "outputs": [],
   "source": [
    "ds = xr.open_dataset(\"/Users/tobias/Downloads/b7f8cc38-c40f-11ed-b8a6-0050569abf1e/MIPAS-E_IMK.200412.V8R_CH4_261.nc\").drop_vars('altitude')"
   ]
  },
  {
   "cell_type": "code",
   "execution_count": null,
   "id": "3e06257f",
   "metadata": {},
   "outputs": [],
   "source": [
    "import numpy as np\n",
    "import xarray as xr\n",
    "targett= xr.open_dataset(\"/Users/tobias/Downloads/Mipas/out.nc\")"
   ]
  },
  {
   "cell_type": "code",
   "execution_count": null,
   "id": "3a415d0b",
   "metadata": {},
   "outputs": [],
   "source": [
    "altt = xr.open_dataset(\"/Users/tobias/Downloads/Mipas/altout5.nc\")"
   ]
  },
  {
   "cell_type": "code",
   "execution_count": null,
   "id": "286bbd83",
   "metadata": {},
   "outputs": [],
   "source": []
  },
  {
   "cell_type": "code",
   "execution_count": 4,
   "id": "14e4f53b",
   "metadata": {},
   "outputs": [],
   "source": [
    "import numpy as np\n",
    "import xarray as xr\n",
    "targett= xr.open_dataset(\"/Users/tobias/Downloads/Mipas/renametest.nc\")"
   ]
  },
  {
   "cell_type": "code",
   "execution_count": 5,
   "id": "995a103b",
   "metadata": {},
   "outputs": [],
   "source": [
    "altt = xr.open_dataset(\"/Users/tobias/Downloads/Mipas/altout.nc\")"
   ]
  },
  {
   "cell_type": "code",
   "execution_count": null,
   "id": "38f71bc4",
   "metadata": {},
   "outputs": [],
   "source": []
  },
  {
   "cell_type": "code",
   "execution_count": null,
   "id": "b8a270ae",
   "metadata": {},
   "outputs": [],
   "source": []
  },
  {
   "cell_type": "code",
   "execution_count": 6,
   "id": "222630f8",
   "metadata": {},
   "outputs": [],
   "source": [
    "ch4 = targett.merge(altt)"
   ]
  },
  {
   "cell_type": "code",
   "execution_count": null,
   "id": "61d2eea8",
   "metadata": {},
   "outputs": [],
   "source": []
  },
  {
   "cell_type": "code",
   "execution_count": null,
   "id": "ab0f2a4d",
   "metadata": {},
   "outputs": [],
   "source": []
  },
  {
   "cell_type": "code",
   "execution_count": 7,
   "id": "56af1936",
   "metadata": {},
   "outputs": [
    {
     "name": "stdout",
     "output_type": "stream",
     "text": [
      "['2004-11-29T15:30:08.549652518'] 73 18 36 1\n"
     ]
    }
   ],
   "source": [
    "ds=ch4\n",
    "monthly_time = ds.time.resample(time=\"1M\").mean().values\n",
    "\n",
    "# Define the bin edges for latitude and longitude\n",
    "lat_bins = np.linspace(-90, 90, 19)\n",
    "lon_bins = np.linspace(-180, 180, 37)\n",
    "\n",
    "# Bin the latitude and longitude values\n",
    "lat_indices = np.digitize(ds.latitude.values, lat_bins)\n",
    "lon_indices = np.digitize(ds.longitude.values, lon_bins)\n",
    "\n",
    "# Initialize an empty array to store the binned CH4 values\n",
    "n_altitudes = ds.target.shape[0]\n",
    "n_lats = len(lat_bins) - 1\n",
    "n_lons = len(lon_bins) - 1\n",
    "n_time = 1\n",
    "print(monthly_time,n_altitudes,n_lats,n_lons,n_time)\n",
    "ch4_binned = np.empty((n_altitudes, n_lats, n_lons, n_time))\n",
    "ch4_binned[:] = np.nan\n",
    "\n",
    "# Loop over altitudes and fill in the binned CH4 values\n",
    "for alt_idx in range(n_altitudes):\n",
    "    ch4_alt = ds.target.values[alt_idx]\n",
    "    for lat_idx in range(n_lats):\n",
    "        for lon_idx in range(n_lons):\n",
    "            mask = (lat_indices == lat_idx+1) & (lon_indices == lon_idx+1)\n",
    "            if np.any(mask):\n",
    "                ch4_binned[alt_idx, lat_idx, lon_idx, 0] = np.nanmean(ch4_alt[mask])\n",
    "            else:\n",
    "                ch4_binned[alt_idx, lat_idx, lon_idx, 0] = np.nan\n",
    "\n",
    "# Create a new xarray dataset with the binned CH4 values\n",
    "ds_binned = xr.Dataset(\n",
    "    {\"ch4\": ([\"altitude\", \"latitude\", \"longitude\", \"time\"], ch4_binned)},\n",
    "    coords={\n",
    "        \"altitude\": ds.altitude.values,\n",
    "        \"latitude\": lat_bins[:-1] + np.diff(lat_bins)/2,\n",
    "        \"longitude\": lon_bins[:-1] + np.diff(lon_bins)/2,\n",
    "        \"time\": monthly_time\n",
    "    },\n",
    "    attrs=ds.attrs,\n",
    ")\n"
   ]
  },
  {
   "cell_type": "code",
   "execution_count": null,
   "id": "ced5dc88",
   "metadata": {},
   "outputs": [],
   "source": [
    "ds"
   ]
  },
  {
   "cell_type": "code",
   "execution_count": 8,
   "id": "4a41374a",
   "metadata": {},
   "outputs": [
    {
     "data": {
      "text/plain": [
       "<matplotlib.collections.QuadMesh at 0x15e4dc7d0>"
      ]
     },
     "execution_count": 8,
     "metadata": {},
     "output_type": "execute_result"
    },
    {
     "data": {
      "image/png": "[encoded data removed]",
      "text/plain": [
       "<Figure size 640x480 with 2 Axes>"
      ]
     },
     "metadata": {},
     "output_type": "display_data"
    }
   ],
   "source": [
    "ds_binned.ch4[22].plot()"
   ]
  },
  {
   "cell_type": "code",
   "execution_count": null,
   "id": "f3fb2724",
   "metadata": {},
   "outputs": [],
   "source": [
    "import eco\n",
    "\n",
    "# Open the netCDF file\n",
    "nc = eco. ('MIPAS-E_IMK.200502.V8R_CH4_261.nc', 'a')\n",
    "\n",
    "# Drop the variable named 'var_to_drop'\n",
    "ncdrop(nc, 'var_to_drop')\n",
    "\n",
    "# Close the netCDF file\n",
    "nc.close()"
   ]
  },
  {
   "cell_type": "code",
   "execution_count": null,
   "id": "b908424f",
   "metadata": {},
   "outputs": [],
   "source": [
    "!pip install eco"
   ]
  },
  {
   "cell_type": "code",
   "execution_count": null,
   "id": "95690b47",
   "metadata": {},
   "outputs": [],
   "source": [
    "from netCDF4 import Dataset\n",
    "\n",
    "# Open the input netCDF file\n",
    "input_nc = Dataset('/Users/tobias/Downloads/Mipas/MIPAS-E_IMK.200501.V8R_CH4_261.nc', mode='r')\n",
    "\n",
    "# Get the variable object for 'altitude'\n",
    "altitude_var = input_nc.variables['altitude']\n",
    "\n",
    "# Apply the ncwa operation to the input variable along the 'time' axis\n",
    "altitude_out = altitude_var[:].mean(axis=1)\n",
    "\n",
    "# Create a new netCDF file for the output\n",
    "output_nc = Dataset('MIPAS-E_IMK.200501.V8R_CH4_261_altcorrect.nc', mode='a')\n",
    "\n",
    "# Copy the global attributes from the input file to the output file\n",
    "output_nc.setncatts(input_nc.__dict__)\n",
    "\n"
   ]
  },
  {
   "cell_type": "code",
   "execution_count": null,
   "id": "dd7d8697",
   "metadata": {},
   "outputs": [],
   "source": [
    "input_nc"
   ]
  },
  {
   "cell_type": "code",
   "execution_count": null,
   "id": "c4fcbada",
   "metadata": {},
   "outputs": [],
   "source": [
    "# Create dimensions and variables for the output file\n",
    "output_nc.createDimension('altitude', len(altitude_out))\n",
    "height_var = output_nc.createVariable('height', altitude_var.datatype, ('height',))\n",
    "altitude_out_var = output_nc.createVariable('altitude', altitude_var.datatype, ('height',))\n",
    "\n",
    "# Copy the attributes from the input file to the output file\n",
    "height_var.setncatts(altitude_var.dimensions['height'].__dict__)\n",
    "\n",
    "\n",
    "#output_nc.createDimension('altitude', len(altitude_out))\n",
    "#height_var = output_nc.createVariable('altitude', altitude_var.datatype, ('altitude',))\n",
    "#altitude_out_var = output_nc.createVariable('altitude', altitude_var.datatype, ('altitude',))\n",
    "\n",
    "## Copy the attributes from the input file to the output file\n",
    "#height_var.setncatts(altitude_var.dimensions['altitude'].__dict__)\n",
    "altitude_out_var.setncatts(altitude_var.__dict__)\n",
    "\n",
    "# Set the values of the output variables\n",
    "height_var[:] = altitude_out[:]\n",
    "altitude_out_var[:] = altitude_out[:]\n",
    "\n",
    "# Close the netCDF files\n",
    "input_nc.close()\n",
    "output_nc.close()"
   ]
  },
  {
   "cell_type": "code",
   "execution_count": null,
   "id": "b8ebd621",
   "metadata": {},
   "outputs": [],
   "source": [
    "# Open the input netCDF file\n",
    "input_nc = Dataset('/Users/tobias/Downloads/Mipas/MIPAS-E_IMK.200501.V8R_CH4_261.nc', mode='r')\n",
    "\n",
    "# Read the altitude and time variables\n",
    "altitude_var = input_nc.variables['altitude']\n",
    "time_var = input_nc.variables['time']\n",
    "\n",
    "# Calculate the mean altitude along the time dimension\n",
    "altitude_out = altitude_var[:].mean(axis=1)\n",
    "\n",
    "# Create a new netCDF file for the output\n",
    "output_nc = Dataset('MIPAS-E_IMK.200501.V8R_CH4_261_altcorrect.nc', mode='a')\n",
    "\n",
    "# Copy the global attributes from the input file to the output file\n",
    "output_nc.setncatts(input_nc.__dict__)\n",
    "\n",
    "# Define dimensions in the output file\n",
    "#altitude_dim = output_nc.createDimension('altitude', len(altitude_out))\n",
    "altitude_dim = output_nc.createDimension('altitude_out', len(altitude_out))\n",
    "time_dim = output_nc.createDimension('time', None)\n",
    "\n",
    "# Create new altitude and variable variables in the output file\n",
    "altitude_out_var = output_nc.createVariable('altitude', altitude_var.dtype, ('altitude',))\n",
    "altitude_out_var.units = altitude_var.units\n",
    "altitude_out_var.long_name = altitude_var.long_name\n",
    "var_out = output_nc.createVariable(varname, var.dtype, ('time', 'altitude'))\n",
    "var_out.units = var.units\n",
    "var_out.long_name = var.long_name\n",
    "\n",
    "## Create a new altitude variable in the output file\n",
    "#altitude_out_var = output_nc.createVariable('altitude', altitude_var.dtype, ('altitude',))\n",
    "#altitude_out_var.units = altitude_var.units\n",
    "#altitude_out_var.long_name = altitude_var.long_name\n",
    "\n",
    "# Write the mean altitude values to the output file\n",
    "altitude_out_var[:] = altitude_out\n",
    "\n",
    "# Loop through the input variables and create corresponding output variables\n",
    "for var_name, var in input_nc.variables.items():\n",
    "    if var_name == 'altitude':\n",
    "        # Skip the altitude variable, as we have already created a new one\n",
    "        continue\n",
    "    output_var = output_nc.createVariable(var_name, var.dtype, var.dimensions)\n",
    "    output_var.units = var.units\n",
    "    output_var.long_name = var.long_name\n",
    "    output_var[:] = var[:]\n",
    "    \n",
    "# Close the files\n",
    "input_nc.close()\n",
    "output_nc.close()\n"
   ]
  },
  {
   "cell_type": "code",
   "execution_count": null,
   "id": "dfea82f0",
   "metadata": {},
   "outputs": [],
   "source": [
    "# Open the input netCDF file\n",
    "input_nc = Dataset('/Users/tobias/Downloads/Mipas/MIPAS-E_IMK.200501.V8R_CH4_261.nc', mode='r')\n",
    "\n",
    "# Read the altitude and time variables\n",
    "altitude_var = input_nc.variables['altitude']\n",
    "time_var = input_nc.variables['time']\n",
    "\n",
    "# Calculate the mean altitude along the time dimension\n",
    "altitude_out = altitude_var[:].mean(axis=1)\n",
    "\n",
    "# Create a new netCDF file for the output\n",
    "output_nc = Dataset('MIPAS-E_IMK.200501.V8R_CH4_261_corrected.nc', mode='a')\n",
    "\n",
    "# Copy the global attributes from the input file to the output file\n",
    "output_nc.setncatts(input_nc.__dict__)\n",
    "\n",
    "# Define dimensions in the output file\n",
    "altitude_dim = output_nc.createDimension('altitude', len(altitude_out))\n",
    "time_dim = output_nc.createDimension('time', None)\n",
    "\n",
    "# Create new altitude and variable variables in the output file\n",
    "altitude_out_var = output_nc.createVariable('altitude', altitude_var.dtype, ('altitude',))\n",
    "altitude_out_var.units = altitude_var.units\n",
    "altitude_out_var.long_name = altitude_var.long_name\n",
    "altitude_out_var[:] = altitude_out\n",
    "\n",
    "# Loop through the input variables and create corresponding output variables\n",
    "for var_name, var in input_nc.variables.items():\n",
    "    if var_name == 'altitude':\n",
    "        # Skip the existing altitude variable\n",
    "        continue\n",
    "    output_var = output_nc.createVariable(var_name, var.dtype, var.dimensions)\n",
    "    output_var.units = var.units\n",
    "    output_var.long_name = var.long_name\n",
    "    output_var[:] = var[:]\n",
    "\n",
    "# Close the files\n",
    "input_nc.close()\n",
    "output_nc.close()\n"
   ]
  },
  {
   "cell_type": "code",
   "execution_count": null,
   "id": "f71f91a8",
   "metadata": {},
   "outputs": [],
   "source": [
    "from netCDF4 import Dataset\n",
    "\n",
    "# Open the input netCDF file\n",
    "input_nc = Dataset('/Users/tobias/Downloads/Mipas/MIPAS-E_IMK.200501.V8R_CH4_261.nc', mode='r')\n",
    "\n",
    "# Read the altitude and time variables\n",
    "altitude_var = input_nc.variables['altitude']\n",
    "time_var = input_nc.variables['time']\n",
    "\n",
    "# Calculate the mean altitude along the time dimension\n",
    "altitude_out = altitude_var[:].mean(axis=1)\n",
    "\n",
    "# Create a new netCDF file for the output\n",
    "output_nc = Dataset('MIPAS-E_IMK.200501.V8R_CH4_261_corrected.nc', mode='a')\n",
    "\n",
    "# Copy the global attributes from the input file to the output file\n",
    "output_nc.setncatts(input_nc.__dict__)\n",
    "\n",
    "# Define dimensions in the output file\n",
    "output_nc.createDimension('altitude', altitude_var.shape[1])\n",
    "output_nc.createDimension('time', None)\n",
    "\n",
    "# Create new altitude and variable variables in the output file\n",
    "altitude_out_var = output_nc.createVariable('altitude', altitude_var.dtype, ('altitude',))\n",
    "altitude_out_var.units = altitude_var.units\n",
    "altitude_out_var.long_name = altitude_var.long_name\n",
    "altitude_out_var[:] = altitude_out\n",
    "\n",
    "# Loop through the input variables and create corresponding output variables\n",
    "for var_name, var in input_nc.variables.items():\n",
    "    if var_name == 'altitude':\n",
    "        # Skip the existing altitude variable\n",
    "        continue\n",
    "    output_var = output_nc.createVariable(var_name, var.dtype, var.dimensions)\n",
    "    output_var.units = var.units\n",
    "    output_var.long_name = var.long_name\n",
    "    output_var[:] = var[:]\n",
    "\n",
    "# Close the files\n",
    "input_nc.close()\n",
    "output_nc.close()"
   ]
  },
  {
   "cell_type": "code",
   "execution_count": 2,
   "id": "d3df1a62",
   "metadata": {},
   "outputs": [
    {
     "ename": "RuntimeError",
     "evalue": "NetCDF: String match to name in use",
     "output_type": "error",
     "traceback": [
      "\u001b[0;31m---------------------------------------------------------------------------\u001b[0m",
      "\u001b[0;31mRuntimeError\u001b[0m                              Traceback (most recent call last)",
      "Cell \u001b[0;32mIn[2], line 20\u001b[0m\n\u001b[1;32m     17\u001b[0m output_nc\u001b[38;5;241m.\u001b[39msetncatts(input_nc\u001b[38;5;241m.\u001b[39m\u001b[38;5;18m__dict__\u001b[39m)\n\u001b[1;32m     19\u001b[0m \u001b[38;5;66;03m# Define dimensions in the output file\u001b[39;00m\n\u001b[0;32m---> 20\u001b[0m altitude_dim_out \u001b[38;5;241m=\u001b[39m \u001b[43moutput_nc\u001b[49m\u001b[38;5;241;43m.\u001b[39;49m\u001b[43mcreateDimension\u001b[49m\u001b[43m(\u001b[49m\u001b[38;5;124;43m'\u001b[39;49m\u001b[38;5;124;43maltitude_out\u001b[39;49m\u001b[38;5;124;43m'\u001b[39;49m\u001b[43m,\u001b[49m\u001b[43m \u001b[49m\u001b[43maltitude_var\u001b[49m\u001b[38;5;241;43m.\u001b[39;49m\u001b[43mshape\u001b[49m\u001b[43m[\u001b[49m\u001b[38;5;241;43m1\u001b[39;49m\u001b[43m]\u001b[49m\u001b[43m)\u001b[49m\n\u001b[1;32m     21\u001b[0m time_dim_out \u001b[38;5;241m=\u001b[39m output_nc\u001b[38;5;241m.\u001b[39mcreateDimension(\u001b[38;5;124m'\u001b[39m\u001b[38;5;124mtime\u001b[39m\u001b[38;5;124m'\u001b[39m, \u001b[38;5;28;01mNone\u001b[39;00m)\n\u001b[1;32m     23\u001b[0m \u001b[38;5;66;03m# Create new altitude and variable variables in the output file\u001b[39;00m\n",
      "File \u001b[0;32msrc/netCDF4/_netCDF4.pyx:2693\u001b[0m, in \u001b[0;36mnetCDF4._netCDF4.Dataset.createDimension\u001b[0;34m()\u001b[0m\n",
      "File \u001b[0;32msrc/netCDF4/_netCDF4.pyx:3682\u001b[0m, in \u001b[0;36mnetCDF4._netCDF4.Dimension.__init__\u001b[0;34m()\u001b[0m\n",
      "File \u001b[0;32msrc/netCDF4/_netCDF4.pyx:2014\u001b[0m, in \u001b[0;36mnetCDF4._netCDF4._ensure_nc_success\u001b[0;34m()\u001b[0m\n",
      "\u001b[0;31mRuntimeError\u001b[0m: NetCDF: String match to name in use"
     ]
    }
   ],
   "source": [
    "from netCDF4 import Dataset\n",
    "\n",
    "# Open the input netCDF file\n",
    "input_nc = Dataset('/Users/tobias/Downloads/Mipas/MIPAS-E_IMK.200501.V8R_CH4_261.nc', mode='r')\n",
    "\n",
    "# Read the altitude and time variables\n",
    "altitude_var = input_nc.variables['altitude']\n",
    "time_var = input_nc.variables['time']\n",
    "\n",
    "# Calculate the mean altitude along the time dimension\n",
    "altitude_out = altitude_var[:].mean(axis=1)\n",
    "\n",
    "# Create a new netCDF file for the output\n",
    "output_nc = Dataset('MIPAS-E_IMK.200501.V8R_CH4_261_corrected.nc', mode='a')\n",
    "\n",
    "# Copy the global attributes from the input file to the output file\n",
    "output_nc.setncatts(input_nc.__dict__)\n",
    "\n",
    "# Define dimensions in the output file\n",
    "altitude_dim_out = output_nc.createDimension('altitude_out', altitude_var.shape[1])\n",
    "time_dim_out = output_nc.createDimension('time', None)\n",
    "\n",
    "# Create new altitude and variable variables in the output file\n",
    "altitude_out_var = output_nc.createVariable('altitude_out', altitude_var.dtype, ('altitude_out',))\n",
    "altitude_out_var.units = altitude_var.units\n",
    "altitude_out_var.long_name = altitude_var.long_name\n",
    "altitude_out_var[:] = altitude_out\n",
    "\n",
    "for var_name, var in input_nc.variables.items():\n",
    "    if var_name == 'altitude':\n",
    "        # Skip the existing altitude variable\n",
    "        continue\n",
    "    output_var = output_nc.createVariable(var_name, var.dtype, var.dimensions)\n",
    "    output_var.units = var.units\n",
    "    output_var.long_name = var.long_name\n",
    "    output_var[:] = var[:]\n",
    "\n",
    "# Close the files\n",
    "input_nc.close()\n",
    "output_nc.close()"
   ]
  },
  {
   "cell_type": "code",
   "execution_count": null,
   "id": "25d0003b",
   "metadata": {},
   "outputs": [],
   "source": []
  }
 ],
 "metadata": {
  "kernelspec": {
   "display_name": "Python 3 (ipykernel)",
   "language": "python",
   "name": "python3"
  },
  "language_info": {
   "codemirror_mode": {
    "name": "ipython",
    "version": 3
   },
   "file_extension": ".py",
   "mimetype": "text/x-python",
   "name": "python",
   "nbconvert_exporter": "python",
   "pygments_lexer": "ipython3",
   "version": "3.11.2"
  }
 },
 "nbformat": 4,
 "nbformat_minor": 5
}
