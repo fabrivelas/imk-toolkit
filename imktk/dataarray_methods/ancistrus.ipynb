{
 "cells": [
  {
   "cell_type": "code",
   "execution_count": null,
   "id": "51a845af",
   "metadata": {},
   "outputs": [],
   "source": [
    "import numpy as np\n",
    "import pandas as pd\n",
    "import xarray as xr\n",
    "from datetime import datetime\n",
    "import datetime"
   ]
  },
  {
   "cell_type": "code",
   "execution_count": null,
   "id": "15403e78",
   "metadata": {},
   "outputs": [],
   "source": [
    "def read_var(varname, filename):\n",
    "    with open(filename, 'r') as f:\n",
    "        data = f.readlines()\n",
    "\n",
    "    for (i,x) in enumerate(data):\n",
    "        if ' ' + varname in x: start = i\n",
    "                \n",
    "    end = i\n",
    "    for (i,x) in enumerate(data[start:]):\n",
    "        if not x.strip(): lenblock = i; break\n",
    "    var = pd.read_fwf(filename, header = None, squeeze = True, sep=' ',infer_nrows=lenblock, skiprows=start+1, nrows=lenblock)\n",
    "    return var"
   ]
  },
  {
   "cell_type": "code",
   "execution_count": null,
   "id": "a0a341fe",
   "metadata": {},
   "outputs": [],
   "source": [
    "def to_xr(var):\n",
    "    var.to_xarray()"
   ]
  },
  {
   "cell_type": "code",
   "execution_count": null,
   "id": "c5c44010",
   "metadata": {},
   "outputs": [],
   "source": [
    "def filesanddates():    \n",
    "    filename = \"/Users/tobias/files.txt\"\n",
    "    with open(filename, 'r') as f:\n",
    "        data = f.readlines()\n",
    "    \n",
    "    years = [int(d[0:4]) for d in data]\n",
    "    months = [(d[5:7]) for d in data]\n",
    "    monthss = ['DJ','JF','FM','MA','AM','MJ','JJ','JA','AS','SO','ON','ND']\n",
    "    mon = [monthss.index(m) for m in months]\n",
    "    test = [d[0:7] for d in data]\n",
    "    date = [datetime.datetime(years[i], mon[i]+1, 1) for i in range(len(years))]\n",
    "    \n",
    "# filename = '/Users/tobias/Desktop/QBO Ancistrus/test10a.dat'\n",
    "#    years = range(2002,2013)\n",
    "#    year = [str(y) for y in range(2002,2013)]\n",
    "#    months = ['DJ','JF','FM','MA','AM','MJ','JJ','JA','AS','SO','ON','ND']\n",
    "#    month = [str(m) for m in months]\n",
    "#    test = []\n",
    "#    date = []\n",
    "#    for y in year:\n",
    "#        for m in month:\n",
    "#            test.append( y + '_' + m )\n",
    "#            date.append(datetime.datetime(years[year.index(y)], month.index(m)+1, 1))\n",
    "#    \n",
    "#    test = np.delete(test, [0,1,2,3,4,5,6,27,28,29,30,31,32,33,34,35,-8,-7,-6,-5,-4,-3,-2,-1])\n",
    "#    date = np.delete(date, [0,1,2,3,4,5,6,27,28,29,30,31,32,33,34,35,-8,-7,-6,-5,-4,-3,-2,-1])\n",
    "    return(test, date)"
   ]
  },
  {
   "cell_type": "code",
   "execution_count": null,
   "id": "31afdbe4",
   "metadata": {},
   "outputs": [],
   "source": [
    "def readvars(filename):\n",
    "    varname = 'v_phi'\n",
    "    var = read_var(varname, filename)\n",
    "\n",
    "    varname = 'v_z'\n",
    "    varz = read_var(varname, filename)\n",
    "\n",
    "    varname = 'model altitude'\n",
    "    alt = read_var(varname, filename)\n",
    "\n",
    "    varname = 'model latitude'\n",
    "    lat = read_var(varname, filename)\n",
    "\n",
    "    latlist = lat.T.to_xarray().to_array().values.ravel()\n",
    "    latlist = latlist[~np.isnan(latlist)]\n",
    "    #print(latlist)\n",
    "    altlist = alt.T.to_xarray().to_array().values.ravel()\n",
    "    altlist = altlist[~np.isnan(altlist)]\n",
    "    #print(altlist)\n",
    "    varlist = var.to_xarray().to_array().values.ravel()\n",
    "    varlist.resize(len(altlist),len(latlist))\n",
    "\n",
    "    varzlist = varz.to_xarray().to_array().values.ravel()\n",
    "    varzlist.resize(len(altlist),len(latlist))\n",
    "\n",
    "    #print(np.shape(varlist),np.shape(var))\n",
    "    \n",
    "    varlist = varlist[np.newaxis,...]\n",
    "    varzlist = varzlist[np.newaxis,...]\n",
    "    return(varlist,varzlist,altlist,latlist)"
   ]
  },
  {
   "cell_type": "code",
   "execution_count": null,
   "id": "21936ff8",
   "metadata": {},
   "outputs": [],
   "source": [
    "def readvars2(filename):\n",
    "    varname = 'v_phi'\n",
    "    var = read_var(varname, filename)\n",
    "\n",
    "    varname = 'v_z'\n",
    "    varz = read_var(varname, filename)\n",
    "\n",
    "    varname = 'model altitude'\n",
    "    alt = read_var(varname, filename)\n",
    "\n",
    "    varname = 'model latitude'\n",
    "    lat = read_var(varname, filename)\n",
    "\n",
    "    latlist = lat.T.to_xarray().to_array().values.ravel()\n",
    "    latlist = latlist[~np.isnan(latlist)]\n",
    "    #print(latlist)\n",
    "    altlist = alt.T.to_xarray().to_array().values.ravel()\n",
    "    altlist = altlist[~np.isnan(altlist)]\n",
    "    #print(altlist)\n",
    "    varlist = var.to_xarray().to_array().values.ravel()\n",
    "    varlist.resize(len(latlist),len(altlist))\n",
    "\n",
    "    varzlist = varz.to_xarray().to_array().values.ravel()\n",
    "    varzlist.resize(len(latlist),len(altlist))\n",
    "    #print(np.shape(varlist),np.shape(var))\n",
    "    \n",
    "    varlist = varlist[np.newaxis,...]\n",
    "    varzlist = varzlist[np.newaxis,...]\n",
    "    return(varlist,varzlist,altlist,latlist)"
   ]
  },
  {
   "cell_type": "code",
   "execution_count": null,
   "id": "fff06445",
   "metadata": {},
   "outputs": [],
   "source": [
    "#df = pd.DataFrame({'year': [2014],\n",
    "#...                    'month': [9],\n",
    "#...                    'day': [6]})\n",
    "#time = pd.to_datetime(df)"
   ]
  },
  {
   "cell_type": "code",
   "execution_count": null,
   "id": "fc367de5",
   "metadata": {},
   "outputs": [],
   "source": [
    "def mkds(varlist,varzlist,latlist, altlist,time):# define data with variable attributes\n",
    "    data_vars = {'v_phi':(['time', 'alt', 'lat'], varlist, \n",
    "                         {'units': 'm/s', \n",
    "                          'long_name':'meridional velocity'}),\n",
    "                 'v_z'  :(['time', 'alt', 'lat'], varzlist, \n",
    "                         {'units': 'm/s', \n",
    "                          'long_name':'vertical velocity'})}\n",
    "\n",
    "# define coordinates\n",
    "    coords = {'time': (['time'], [time]),\n",
    "         'lat': (['lat'], latlist),\n",
    "         'alt': (['alt'], altlist)}\n",
    "\n",
    "# define global attributes\n",
    "    attrs = {'creation_date':str(datetime.datetime.now()), \n",
    "         'author':'Tobias Kerzenmacher', \n",
    "         'email':'kerzenmacher@kit.edu'}\n",
    "\n",
    "# create dataset\n",
    "    ds = xr.Dataset(data_vars=data_vars, \n",
    "                coords=coords, \n",
    "                attrs=attrs)\n",
    "    return(ds)"
   ]
  },
  {
   "cell_type": "code",
   "execution_count": null,
   "id": "e3025b7e",
   "metadata": {},
   "outputs": [],
   "source": [
    "def mkds2(varlist,varzlist,latlist, altlist,time):# define data with variable attributes\n",
    "    data_vars = {'v_phi':(['time', 'lat', 'alt'], varlist, \n",
    "                         {'units': 'm/s', \n",
    "                          'long_name':'meridional velocity'}),\n",
    "                 'v_z'  :(['time', 'lat', 'alt'], varzlist, \n",
    "                         {'units': 'm/s', \n",
    "                          'long_name':'vertical velocity'})}\n",
    "\n",
    "# define coordinates\n",
    "    coords = {'time': (['time'], [time]),\n",
    "         'lat': (['lat'], latlist),\n",
    "         'alt': (['alt'], altlist)}\n",
    "\n",
    "# define global attributes\n",
    "    attrs = {'creation_date':str(datetime.datetime.now()), \n",
    "         'author':'Tobias Kerzenmacher', \n",
    "         'email':'kerzenmacher@kit.edu'}\n",
    "\n",
    "# create dataset\n",
    "    ds = xr.Dataset(data_vars=data_vars, \n",
    "                coords=coords, \n",
    "                attrs=attrs)\n",
    "    return(ds)"
   ]
  },
  {
   "cell_type": "code",
   "execution_count": null,
   "id": "771c5b49",
   "metadata": {},
   "outputs": [],
   "source": [
    "ds.to_netcdf('est.nc')"
   ]
  },
  {
   "cell_type": "code",
   "execution_count": null,
   "id": "2cdaabd5",
   "metadata": {},
   "outputs": [],
   "source": [
    "import datetime\n",
    "\n",
    "d = datetime.datetime(2019, 4, 13)\n",
    "print(d)"
   ]
  },
  {
   "cell_type": "code",
   "execution_count": null,
   "id": "ab8c34ce",
   "metadata": {},
   "outputs": [],
   "source": [
    "for t in test:\n",
    "    print(t)\n",
    "    print(date[test.index(t)])"
   ]
  },
  {
   "cell_type": "code",
   "execution_count": null,
   "id": "61ceb307",
   "metadata": {},
   "outputs": [],
   "source": [
    "test, date = filesanddates()\n",
    "#test=test[0:2]\n",
    "#date=date[0:2]\n",
    "for i,t in enumerate(test):\n",
    "    filename = '/Users/tobias/Mount/Ancistrus/test10a_'+t+'/output/test10a.dat'\n",
    "    time = date[i]\n",
    "    print(filename,time,i)\n",
    "    varlist, varzlist, altlist, latlist = readvars(filename)\n",
    "    ds1 = mkds(varlist,varzlist,latlist, altlist,time)\n",
    "    if i==0 : \n",
    "        ds = mkds(varlist,varzlist,latlist, altlist,time)\n",
    "    else:\n",
    "        ds= xr.concat([ds,mkds(varlist,varzlist,latlist, altlist,time)],dim='time')\n",
    "    print(ds)\n"
   ]
  },
  {
   "cell_type": "code",
   "execution_count": null,
   "id": "a563e744",
   "metadata": {},
   "outputs": [],
   "source": [
    "test, date = filesanddates()\n",
    "#test=test[0:2]\n",
    "#date=date[0:2]\n",
    "for i,t in enumerate(test):\n",
    "    filename = '/Users/tobias/Mount/Ancistrus/test10a_'+t+'/output/test10a.dat'\n",
    "    time = date[i]\n",
    "    print(filename,time,i)\n",
    "    varlist, varzlist, altlist, latlist = readvars2(filename)\n",
    "    #ds1 = mkds2(varlist,varzlist,latlist, altlist,time)\n",
    "    if i==0 : \n",
    "        ds2 = mkds2(varlist,varzlist,latlist, altlist,time)\n",
    "    else:\n",
    "        ds2= xr.concat([ds,mkds2(varlist,varzlist,latlist, altlist,time)],dim='time')\n",
    "    print(ds)\n"
   ]
  },
  {
   "cell_type": "code",
   "execution_count": null,
   "id": "b364ea9a",
   "metadata": {},
   "outputs": [],
   "source": [
    "ds"
   ]
  },
  {
   "cell_type": "code",
   "execution_count": null,
   "id": "74364f9e",
   "metadata": {},
   "outputs": [],
   "source": [
    "ds.v_z[2].plot()"
   ]
  },
  {
   "cell_type": "code",
   "execution_count": null,
   "id": "6f966fc7",
   "metadata": {},
   "outputs": [],
   "source": [
    "xr.plot.contour(ds.v_z[2])"
   ]
  },
  {
   "cell_type": "code",
   "execution_count": null,
   "id": "861b6145",
   "metadata": {},
   "outputs": [],
   "source": [
    "xr.plot.contour(ds2.v_z[2])"
   ]
  },
  {
   "cell_type": "code",
   "execution_count": null,
   "id": "40438b7d",
   "metadata": {},
   "outputs": [],
   "source": []
  }
 ],
 "metadata": {
  "kernelspec": {
   "display_name": "Python 3 (ipykernel)",
   "language": "python",
   "name": "python3"
  },
  "language_info": {
   "codemirror_mode": {
    "name": "ipython",
    "version": 3
   },
   "file_extension": ".py",
   "mimetype": "text/x-python",
   "name": "python",
   "nbconvert_exporter": "python",
   "pygments_lexer": "ipython3",
   "version": "3.9.12"
  }
 },
 "nbformat": 4,
 "nbformat_minor": 5
}
